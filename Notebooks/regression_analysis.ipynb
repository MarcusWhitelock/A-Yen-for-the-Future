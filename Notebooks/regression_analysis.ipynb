{
 "cells": [
  {
   "cell_type": "code",
   "execution_count": 21,
   "metadata": {},
   "outputs": [],
   "source": [
    "import numpy as np\n",
    "import pandas as pd\n",
    "from pathlib import Path\n",
    "from sklearn.linear_model import LinearRegression\n",
    "from sklearn.metrics import mean_squared_error\n",
    "%matplotlib inline"
   ]
  },
  {
   "cell_type": "markdown",
   "metadata": {},
   "source": [
    "# Regression Analysis: Seasonal Effects with Sklearn Linear Regression\n",
    "In this notebook, you will build a SKLearn linear regression model to predict Yen futures (\"settle\") returns with *lagged* CAD/JPY exchange rate returns. "
   ]
  },
  {
   "cell_type": "code",
   "execution_count": 7,
   "metadata": {},
   "outputs": [
    {
     "data": {
      "text/html": [
       "<div>\n",
       "<style scoped>\n",
       "    .dataframe tbody tr th:only-of-type {\n",
       "        vertical-align: middle;\n",
       "    }\n",
       "\n",
       "    .dataframe tbody tr th {\n",
       "        vertical-align: top;\n",
       "    }\n",
       "\n",
       "    .dataframe thead th {\n",
       "        text-align: right;\n",
       "    }\n",
       "</style>\n",
       "<table border=\"1\" class=\"dataframe\">\n",
       "  <thead>\n",
       "    <tr style=\"text-align: right;\">\n",
       "      <th></th>\n",
       "      <th>Price</th>\n",
       "      <th>Open</th>\n",
       "      <th>High</th>\n",
       "      <th>Low</th>\n",
       "    </tr>\n",
       "    <tr>\n",
       "      <th>Date</th>\n",
       "      <th></th>\n",
       "      <th></th>\n",
       "      <th></th>\n",
       "      <th></th>\n",
       "    </tr>\n",
       "  </thead>\n",
       "  <tbody>\n",
       "    <tr>\n",
       "      <th>1982-01-05</th>\n",
       "      <td>184.65</td>\n",
       "      <td>184.65</td>\n",
       "      <td>184.65</td>\n",
       "      <td>184.65</td>\n",
       "    </tr>\n",
       "    <tr>\n",
       "      <th>1982-01-06</th>\n",
       "      <td>185.06</td>\n",
       "      <td>185.06</td>\n",
       "      <td>185.06</td>\n",
       "      <td>185.06</td>\n",
       "    </tr>\n",
       "    <tr>\n",
       "      <th>1982-01-07</th>\n",
       "      <td>186.88</td>\n",
       "      <td>186.88</td>\n",
       "      <td>186.88</td>\n",
       "      <td>186.88</td>\n",
       "    </tr>\n",
       "    <tr>\n",
       "      <th>1982-01-08</th>\n",
       "      <td>186.58</td>\n",
       "      <td>186.58</td>\n",
       "      <td>186.58</td>\n",
       "      <td>186.58</td>\n",
       "    </tr>\n",
       "    <tr>\n",
       "      <th>1982-01-11</th>\n",
       "      <td>187.64</td>\n",
       "      <td>187.64</td>\n",
       "      <td>187.64</td>\n",
       "      <td>187.64</td>\n",
       "    </tr>\n",
       "  </tbody>\n",
       "</table>\n",
       "</div>"
      ],
      "text/plain": [
       "             Price    Open    High     Low\n",
       "Date                                      \n",
       "1982-01-05  184.65  184.65  184.65  184.65\n",
       "1982-01-06  185.06  185.06  185.06  185.06\n",
       "1982-01-07  186.88  186.88  186.88  186.88\n",
       "1982-01-08  186.58  186.58  186.58  186.58\n",
       "1982-01-11  187.64  187.64  187.64  187.64"
      ]
     },
     "execution_count": 7,
     "metadata": {},
     "output_type": "execute_result"
    }
   ],
   "source": [
    "# Currency pair exchange rates for CAD/JPY\n",
    "cad_jpy_df = pd.read_csv(\n",
    "    Path(\"../Resources/cad_jpy.csv\"), index_col=\"Date\", infer_datetime_format=True, parse_dates=True\n",
    ")\n",
    "cad_jpy_df.head()"
   ]
  },
  {
   "cell_type": "code",
   "execution_count": 8,
   "metadata": {},
   "outputs": [
    {
     "data": {
      "text/html": [
       "<div>\n",
       "<style scoped>\n",
       "    .dataframe tbody tr th:only-of-type {\n",
       "        vertical-align: middle;\n",
       "    }\n",
       "\n",
       "    .dataframe tbody tr th {\n",
       "        vertical-align: top;\n",
       "    }\n",
       "\n",
       "    .dataframe thead th {\n",
       "        text-align: right;\n",
       "    }\n",
       "</style>\n",
       "<table border=\"1\" class=\"dataframe\">\n",
       "  <thead>\n",
       "    <tr style=\"text-align: right;\">\n",
       "      <th></th>\n",
       "      <th>Price</th>\n",
       "      <th>Open</th>\n",
       "      <th>High</th>\n",
       "      <th>Low</th>\n",
       "    </tr>\n",
       "    <tr>\n",
       "      <th>Date</th>\n",
       "      <th></th>\n",
       "      <th></th>\n",
       "      <th></th>\n",
       "      <th></th>\n",
       "    </tr>\n",
       "  </thead>\n",
       "  <tbody>\n",
       "    <tr>\n",
       "      <th>1990-01-02</th>\n",
       "      <td>126.37</td>\n",
       "      <td>126.31</td>\n",
       "      <td>126.37</td>\n",
       "      <td>126.31</td>\n",
       "    </tr>\n",
       "    <tr>\n",
       "      <th>1990-01-03</th>\n",
       "      <td>125.30</td>\n",
       "      <td>125.24</td>\n",
       "      <td>125.30</td>\n",
       "      <td>125.24</td>\n",
       "    </tr>\n",
       "    <tr>\n",
       "      <th>1990-01-04</th>\n",
       "      <td>123.46</td>\n",
       "      <td>123.41</td>\n",
       "      <td>123.46</td>\n",
       "      <td>123.41</td>\n",
       "    </tr>\n",
       "    <tr>\n",
       "      <th>1990-01-05</th>\n",
       "      <td>124.54</td>\n",
       "      <td>124.48</td>\n",
       "      <td>124.54</td>\n",
       "      <td>124.48</td>\n",
       "    </tr>\n",
       "    <tr>\n",
       "      <th>1990-01-08</th>\n",
       "      <td>124.27</td>\n",
       "      <td>124.21</td>\n",
       "      <td>124.27</td>\n",
       "      <td>124.21</td>\n",
       "    </tr>\n",
       "  </tbody>\n",
       "</table>\n",
       "</div>"
      ],
      "text/plain": [
       "             Price    Open    High     Low\n",
       "Date                                      \n",
       "1990-01-02  126.37  126.31  126.37  126.31\n",
       "1990-01-03  125.30  125.24  125.30  125.24\n",
       "1990-01-04  123.46  123.41  123.46  123.41\n",
       "1990-01-05  124.54  124.48  124.54  124.48\n",
       "1990-01-08  124.27  124.21  124.27  124.21"
      ]
     },
     "execution_count": 8,
     "metadata": {},
     "output_type": "execute_result"
    }
   ],
   "source": [
    "# Trim the dataset to begin on January 1st, 1990\n",
    "cad_jpy_df = cad_jpy_df.loc[\"1990-01-01\":, :]\n",
    "cad_jpy_df.head()"
   ]
  },
  {
   "cell_type": "markdown",
   "metadata": {},
   "source": [
    "# Data Preparation"
   ]
  },
  {
   "cell_type": "markdown",
   "metadata": {},
   "source": [
    "### Returns"
   ]
  },
  {
   "cell_type": "code",
   "execution_count": 9,
   "metadata": {},
   "outputs": [
    {
     "data": {
      "text/html": [
       "<div>\n",
       "<style scoped>\n",
       "    .dataframe tbody tr th:only-of-type {\n",
       "        vertical-align: middle;\n",
       "    }\n",
       "\n",
       "    .dataframe tbody tr th {\n",
       "        vertical-align: top;\n",
       "    }\n",
       "\n",
       "    .dataframe thead th {\n",
       "        text-align: right;\n",
       "    }\n",
       "</style>\n",
       "<table border=\"1\" class=\"dataframe\">\n",
       "  <thead>\n",
       "    <tr style=\"text-align: right;\">\n",
       "      <th></th>\n",
       "      <th>Price</th>\n",
       "      <th>Open</th>\n",
       "      <th>High</th>\n",
       "      <th>Low</th>\n",
       "      <th>Return</th>\n",
       "    </tr>\n",
       "    <tr>\n",
       "      <th>Date</th>\n",
       "      <th></th>\n",
       "      <th></th>\n",
       "      <th></th>\n",
       "      <th></th>\n",
       "      <th></th>\n",
       "    </tr>\n",
       "  </thead>\n",
       "  <tbody>\n",
       "    <tr>\n",
       "      <th>1990-01-03</th>\n",
       "      <td>125.30</td>\n",
       "      <td>125.24</td>\n",
       "      <td>125.30</td>\n",
       "      <td>125.24</td>\n",
       "      <td>-0.846720</td>\n",
       "    </tr>\n",
       "    <tr>\n",
       "      <th>1990-01-04</th>\n",
       "      <td>123.46</td>\n",
       "      <td>123.41</td>\n",
       "      <td>123.46</td>\n",
       "      <td>123.41</td>\n",
       "      <td>-1.468476</td>\n",
       "    </tr>\n",
       "    <tr>\n",
       "      <th>1990-01-05</th>\n",
       "      <td>124.54</td>\n",
       "      <td>124.48</td>\n",
       "      <td>124.54</td>\n",
       "      <td>124.48</td>\n",
       "      <td>0.874777</td>\n",
       "    </tr>\n",
       "    <tr>\n",
       "      <th>1990-01-08</th>\n",
       "      <td>124.27</td>\n",
       "      <td>124.21</td>\n",
       "      <td>124.27</td>\n",
       "      <td>124.21</td>\n",
       "      <td>-0.216798</td>\n",
       "    </tr>\n",
       "    <tr>\n",
       "      <th>1990-01-09</th>\n",
       "      <td>125.10</td>\n",
       "      <td>125.04</td>\n",
       "      <td>125.10</td>\n",
       "      <td>125.04</td>\n",
       "      <td>0.667901</td>\n",
       "    </tr>\n",
       "  </tbody>\n",
       "</table>\n",
       "</div>"
      ],
      "text/plain": [
       "             Price    Open    High     Low    Return\n",
       "Date                                                \n",
       "1990-01-03  125.30  125.24  125.30  125.24 -0.846720\n",
       "1990-01-04  123.46  123.41  123.46  123.41 -1.468476\n",
       "1990-01-05  124.54  124.48  124.54  124.48  0.874777\n",
       "1990-01-08  124.27  124.21  124.27  124.21 -0.216798\n",
       "1990-01-09  125.10  125.04  125.10  125.04  0.667901"
      ]
     },
     "execution_count": 9,
     "metadata": {},
     "output_type": "execute_result"
    }
   ],
   "source": [
    "# Create a series using \"Price\" percentage returns, drop any nan\"s, and check the results:\n",
    "# (Make sure to multiply the pct_change() results by 100)\n",
    "# In this case, you may have to replace inf, -inf values with np.nan\"s\n",
    "cad_jpy_df['Return'] = cad_jpy_df['Price'].pct_change() * 100\n",
    "cad_jpy_df = cad_jpy_df.dropna()\n",
    "cad_jpy_df.head()"
   ]
  },
  {
   "cell_type": "markdown",
   "metadata": {},
   "source": [
    "### Lagged Returns "
   ]
  },
  {
   "cell_type": "code",
   "execution_count": 11,
   "metadata": {},
   "outputs": [
    {
     "data": {
      "text/html": [
       "<div>\n",
       "<style scoped>\n",
       "    .dataframe tbody tr th:only-of-type {\n",
       "        vertical-align: middle;\n",
       "    }\n",
       "\n",
       "    .dataframe tbody tr th {\n",
       "        vertical-align: top;\n",
       "    }\n",
       "\n",
       "    .dataframe thead th {\n",
       "        text-align: right;\n",
       "    }\n",
       "</style>\n",
       "<table border=\"1\" class=\"dataframe\">\n",
       "  <thead>\n",
       "    <tr style=\"text-align: right;\">\n",
       "      <th></th>\n",
       "      <th>Price</th>\n",
       "      <th>Open</th>\n",
       "      <th>High</th>\n",
       "      <th>Low</th>\n",
       "      <th>Return</th>\n",
       "      <th>Lagged_Return</th>\n",
       "    </tr>\n",
       "    <tr>\n",
       "      <th>Date</th>\n",
       "      <th></th>\n",
       "      <th></th>\n",
       "      <th></th>\n",
       "      <th></th>\n",
       "      <th></th>\n",
       "      <th></th>\n",
       "    </tr>\n",
       "  </thead>\n",
       "  <tbody>\n",
       "    <tr>\n",
       "      <th>1990-01-04</th>\n",
       "      <td>123.46</td>\n",
       "      <td>123.41</td>\n",
       "      <td>123.46</td>\n",
       "      <td>123.41</td>\n",
       "      <td>-1.468476</td>\n",
       "      <td>-0.846720</td>\n",
       "    </tr>\n",
       "    <tr>\n",
       "      <th>1990-01-05</th>\n",
       "      <td>124.54</td>\n",
       "      <td>124.48</td>\n",
       "      <td>124.54</td>\n",
       "      <td>124.48</td>\n",
       "      <td>0.874777</td>\n",
       "      <td>-1.468476</td>\n",
       "    </tr>\n",
       "    <tr>\n",
       "      <th>1990-01-08</th>\n",
       "      <td>124.27</td>\n",
       "      <td>124.21</td>\n",
       "      <td>124.27</td>\n",
       "      <td>124.21</td>\n",
       "      <td>-0.216798</td>\n",
       "      <td>0.874777</td>\n",
       "    </tr>\n",
       "    <tr>\n",
       "      <th>1990-01-09</th>\n",
       "      <td>125.10</td>\n",
       "      <td>125.04</td>\n",
       "      <td>125.10</td>\n",
       "      <td>125.04</td>\n",
       "      <td>0.667901</td>\n",
       "      <td>-0.216798</td>\n",
       "    </tr>\n",
       "    <tr>\n",
       "      <th>1990-01-10</th>\n",
       "      <td>125.81</td>\n",
       "      <td>125.75</td>\n",
       "      <td>125.81</td>\n",
       "      <td>125.75</td>\n",
       "      <td>0.567546</td>\n",
       "      <td>0.667901</td>\n",
       "    </tr>\n",
       "  </tbody>\n",
       "</table>\n",
       "</div>"
      ],
      "text/plain": [
       "             Price    Open    High     Low    Return  Lagged_Return\n",
       "Date                                                               \n",
       "1990-01-04  123.46  123.41  123.46  123.41 -1.468476      -0.846720\n",
       "1990-01-05  124.54  124.48  124.54  124.48  0.874777      -1.468476\n",
       "1990-01-08  124.27  124.21  124.27  124.21 -0.216798       0.874777\n",
       "1990-01-09  125.10  125.04  125.10  125.04  0.667901      -0.216798\n",
       "1990-01-10  125.81  125.75  125.81  125.75  0.567546       0.667901"
      ]
     },
     "execution_count": 11,
     "metadata": {},
     "output_type": "execute_result"
    }
   ],
   "source": [
    "# Create a lagged return using the shift function\n",
    "cad_jpy_df['Lagged_Return'] = cad_jpy_df.Return.shift()\n",
    "cad_jpy_df = cad_jpy_df.dropna()\n",
    "cad_jpy_df.head()"
   ]
  },
  {
   "cell_type": "markdown",
   "metadata": {},
   "source": [
    "### Train Test Split"
   ]
  },
  {
   "cell_type": "code",
   "execution_count": 12,
   "metadata": {},
   "outputs": [],
   "source": [
    "# Create a train/test split for the data using 2018-2019 for testing and the rest for training\n",
    "train = cad_jpy_df[:'2017']\n",
    "test = cad_jpy_df['2018':]"
   ]
  },
  {
   "cell_type": "code",
   "execution_count": 13,
   "metadata": {},
   "outputs": [],
   "source": [
    "# Create four dataframes:\n",
    "# X_train (training set using just the independent variables), X_test (test set of of just the independent variables)\n",
    "# Y_train (training set using just the \"y\" variable, i.e., \"Futures Return\"), Y_test (test set of just the \"y\" variable):\n",
    "X_train = train[\"Lagged_Return\"].to_frame()\n",
    "X_test = test[\"Lagged_Return\"].to_frame()\n",
    "y_train = train[\"Return\"]\n",
    "y_test = test[\"Return\"]"
   ]
  },
  {
   "cell_type": "code",
   "execution_count": 14,
   "metadata": {},
   "outputs": [
    {
     "data": {
      "text/html": [
       "<div>\n",
       "<style scoped>\n",
       "    .dataframe tbody tr th:only-of-type {\n",
       "        vertical-align: middle;\n",
       "    }\n",
       "\n",
       "    .dataframe tbody tr th {\n",
       "        vertical-align: top;\n",
       "    }\n",
       "\n",
       "    .dataframe thead th {\n",
       "        text-align: right;\n",
       "    }\n",
       "</style>\n",
       "<table border=\"1\" class=\"dataframe\">\n",
       "  <thead>\n",
       "    <tr style=\"text-align: right;\">\n",
       "      <th></th>\n",
       "      <th>Lagged_Return</th>\n",
       "    </tr>\n",
       "    <tr>\n",
       "      <th>Date</th>\n",
       "      <th></th>\n",
       "    </tr>\n",
       "  </thead>\n",
       "  <tbody>\n",
       "    <tr>\n",
       "      <th>1990-01-04</th>\n",
       "      <td>-0.846720</td>\n",
       "    </tr>\n",
       "    <tr>\n",
       "      <th>1990-01-05</th>\n",
       "      <td>-1.468476</td>\n",
       "    </tr>\n",
       "    <tr>\n",
       "      <th>1990-01-08</th>\n",
       "      <td>0.874777</td>\n",
       "    </tr>\n",
       "    <tr>\n",
       "      <th>1990-01-09</th>\n",
       "      <td>-0.216798</td>\n",
       "    </tr>\n",
       "    <tr>\n",
       "      <th>1990-01-10</th>\n",
       "      <td>0.667901</td>\n",
       "    </tr>\n",
       "  </tbody>\n",
       "</table>\n",
       "</div>"
      ],
      "text/plain": [
       "            Lagged_Return\n",
       "Date                     \n",
       "1990-01-04      -0.846720\n",
       "1990-01-05      -1.468476\n",
       "1990-01-08       0.874777\n",
       "1990-01-09      -0.216798\n",
       "1990-01-10       0.667901"
      ]
     },
     "execution_count": 14,
     "metadata": {},
     "output_type": "execute_result"
    }
   ],
   "source": [
    "# Preview the X_train data\n",
    "X_train.head()"
   ]
  },
  {
   "cell_type": "markdown",
   "metadata": {},
   "source": [
    "# Linear Regression Model"
   ]
  },
  {
   "cell_type": "code",
   "execution_count": 15,
   "metadata": {},
   "outputs": [
    {
     "data": {
      "text/plain": [
       "LinearRegression()"
      ]
     },
     "execution_count": 15,
     "metadata": {},
     "output_type": "execute_result"
    }
   ],
   "source": [
    "# Create a Linear Regression model and fit it to the training data\n",
    "\n",
    "# Fit a SKLearn linear regression using  just the training set (X_train, Y_train):\n",
    "model = LinearRegression()\n",
    "model.fit(X_train, y_train)"
   ]
  },
  {
   "cell_type": "markdown",
   "metadata": {},
   "source": [
    "# Make predictions using the Testing Data\n",
    "\n",
    "**Note:** We want to evaluate the model using data that it has never seen before, in this case: `X_test`."
   ]
  },
  {
   "cell_type": "code",
   "execution_count": 24,
   "metadata": {},
   "outputs": [],
   "source": [
    "# Make a prediction of \"y\" values using just the test dataset\n",
    "predictions_test = model.predict(X_test)"
   ]
  },
  {
   "cell_type": "code",
   "execution_count": 25,
   "metadata": {},
   "outputs": [],
   "source": [
    "# Assemble actual y data (Y_test) with predicted y data (from just above) into two columns in a dataframe:\n",
    "Results_test = y_test.to_frame()\n",
    "Results_test[\"Predicted Return\"] = predictions_test"
   ]
  },
  {
   "cell_type": "code",
   "execution_count": 26,
   "metadata": {},
   "outputs": [
    {
     "data": {
      "image/png": "[encoded data removed]",
      "text/plain": [
       "<Figure size 432x288 with 2 Axes>"
      ]
     },
     "metadata": {
      "needs_background": "light"
     },
     "output_type": "display_data"
    }
   ],
   "source": [
    "# Plot the first 20 predictions vs the true values\n",
    "Results_test[:20].plot(subplots=True);"
   ]
  },
  {
   "cell_type": "markdown",
   "metadata": {},
   "source": [
    "# Out-of-Sample Performance\n",
    "\n",
    "Evaluate the model using \"out-of-sample\" data (`X_test` and `y_test`)"
   ]
  },
  {
   "cell_type": "code",
   "execution_count": 27,
   "metadata": {},
   "outputs": [
    {
     "name": "stdout",
     "output_type": "stream",
     "text": [
      "Out-of-sample Root Mean Squared Error (RMSE): 0.6445805658569028\n"
     ]
    }
   ],
   "source": [
    "# Calculate the mean_squared_error (MSE) on actual versus predicted test \"y\" \n",
    "# (Hint: use the dataframe from above)\n",
    "mse_test = mean_squared_error(\n",
    "    Results_test[\"Return\"],\n",
    "    Results_test[\"Predicted Return\"]\n",
    ")\n",
    "\n",
    "# Using that mean-squared-error, calculate the root-mean-squared error (RMSE):\n",
    "rmse_test = np.sqrt(mse_test)\n",
    "print(f\"Out-of-sample Root Mean Squared Error (RMSE): {rmse}\")"
   ]
  },
  {
   "cell_type": "markdown",
   "metadata": {},
   "source": [
    "# In-Sample Performance\n",
    "\n",
    "Evaluate the model using in-sample data (X_train and y_train)"
   ]
  },
  {
   "cell_type": "code",
   "execution_count": 29,
   "metadata": {},
   "outputs": [
    {
     "name": "stdout",
     "output_type": "stream",
     "text": [
      "Out-of-sample Root Mean Squared Error (RMSE): 0.841994632894117\n"
     ]
    }
   ],
   "source": [
    "# Construct a dataframe using just the \"y\" training data:\n",
    "Results_train = y_train.to_frame()\n",
    "\n",
    "# Add a column of \"in-sample\" predictions to that dataframe:  \n",
    "predictions_train = model.predict(X_train)\n",
    "Results_train[\"Predicted Return\"] = predictions_train\n",
    "\n",
    "# Calculate in-sample mean_squared_error (for comparison to out-of-sample)\n",
    "mse_train = mean_squared_error(\n",
    "    Results_train[\"Return\"],\n",
    "    Results_train[\"Predicted Return\"]\n",
    ")\n",
    "\n",
    "# Calculate in-sample root mean_squared_error (for comparison to out-of-sample)\n",
    "rmse_train = np.sqrt(mse_train)\n",
    "print(f\"Out-of-sample Root Mean Squared Error (RMSE): {rmse_train}\")"
   ]
  },
  {
   "cell_type": "markdown",
   "metadata": {},
   "source": [
    "# Conclusions"
   ]
  },
  {
   "cell_type": "markdown",
   "metadata": {},
   "source": [
    "**Question:** Does this model perform better or worse on out-of-sample data as compared to in-sample data?\n",
    "\n",
    "**Answer:** As we can see from the RMSE percentage the In-Sample outperforms the Out-Of-Sample by roughly 20%"
   ]
  },
  {
   "cell_type": "code",
   "execution_count": null,
   "metadata": {},
   "outputs": [],
   "source": []
  }
 ],
 "metadata": {
  "file_extension": ".py",
  "kernelspec": {
   "display_name": "Python 3 (ipykernel)",
   "language": "python",
   "name": "python3"
  },
  "language_info": {
   "codemirror_mode": {
    "name": "ipython",
    "version": 3
   },
   "file_extension": ".py",
   "mimetype": "text/x-python",
   "name": "python",
   "nbconvert_exporter": "python",
   "pygments_lexer": "ipython3",
   "version": "3.7.11"
  },
  "mimetype": "text/x-python",
  "name": "python",
  "npconvert_exporter": "python",
  "pygments_lexer": "ipython3",
  "version": 3
 },
 "nbformat": 4,
 "nbformat_minor": 4
}
